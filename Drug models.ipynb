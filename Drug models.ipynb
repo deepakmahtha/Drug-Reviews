{
 "cells": [
  {
   "cell_type": "code",
   "execution_count": 1,
   "id": "e582e99e",
   "metadata": {},
   "outputs": [],
   "source": [
    "import pandas as pd \n",
    "import numpy as np\n",
    "import seaborn as sn\n",
    "import re\n",
    "import nltk\n",
    "from nltk.corpus import stopwords\n",
    "from nltk.stem import SnowballStemmer\n",
    "from sklearn.feature_extraction.text import TfidfVectorizer,CountVectorizer\n",
    "\n",
    "from sklearn.model_selection import train_test_split\n",
    "from sklearn.svm import SVC\n",
    "from sklearn.tree import DecisionTreeClassifier\n",
    "from sklearn.linear_model import LogisticRegression\n",
    "from sklearn.naive_bayes import MultinomialNB\n",
    "from lightgbm import LGBMModel, LGBMClassifier\n",
    "from sklearn.ensemble import RandomForestClassifier,GradientBoostingClassifier\n",
    "from sklearn.metrics import *\n",
    "\n",
    "import warnings\n",
    "warnings.simplefilter('ignore')\n"
   ]
  },
  {
   "cell_type": "code",
   "execution_count": 2,
   "id": "c8390334",
   "metadata": {},
   "outputs": [
    {
     "data": {
      "text/html": [
       "<div>\n",
       "<style scoped>\n",
       "    .dataframe tbody tr th:only-of-type {\n",
       "        vertical-align: middle;\n",
       "    }\n",
       "\n",
       "    .dataframe tbody tr th {\n",
       "        vertical-align: top;\n",
       "    }\n",
       "\n",
       "    .dataframe thead th {\n",
       "        text-align: right;\n",
       "    }\n",
       "</style>\n",
       "<table border=\"1\" class=\"dataframe\">\n",
       "  <thead>\n",
       "    <tr style=\"text-align: right;\">\n",
       "      <th></th>\n",
       "      <th>drugName</th>\n",
       "      <th>condition</th>\n",
       "      <th>review</th>\n",
       "      <th>rating</th>\n",
       "      <th>date</th>\n",
       "      <th>usefulCount</th>\n",
       "      <th>sentiment</th>\n",
       "      <th>sentiment_label</th>\n",
       "    </tr>\n",
       "  </thead>\n",
       "  <tbody>\n",
       "    <tr>\n",
       "      <th>0</th>\n",
       "      <td>L-methylfolate</td>\n",
       "      <td>Depression</td>\n",
       "      <td>\"I have taken anti-depressants for years, with...</td>\n",
       "      <td>10</td>\n",
       "      <td>March 9, 2017</td>\n",
       "      <td>54</td>\n",
       "      <td>0.275000</td>\n",
       "      <td>Positive</td>\n",
       "    </tr>\n",
       "    <tr>\n",
       "      <th>1</th>\n",
       "      <td>Sertraline</td>\n",
       "      <td>Depression</td>\n",
       "      <td>\"1 week on Zoloft for anxiety and mood swings....</td>\n",
       "      <td>8</td>\n",
       "      <td>May 7, 2011</td>\n",
       "      <td>3</td>\n",
       "      <td>0.166667</td>\n",
       "      <td>Positive</td>\n",
       "    </tr>\n",
       "    <tr>\n",
       "      <th>2</th>\n",
       "      <td>Venlafaxine</td>\n",
       "      <td>Depression</td>\n",
       "      <td>\"my gp started me on Venlafaxine yesterday to ...</td>\n",
       "      <td>4</td>\n",
       "      <td>April 27, 2016</td>\n",
       "      <td>3</td>\n",
       "      <td>-0.136508</td>\n",
       "      <td>Negative</td>\n",
       "    </tr>\n",
       "    <tr>\n",
       "      <th>3</th>\n",
       "      <td>Dulaglutide</td>\n",
       "      <td>Diabetes, Type 2</td>\n",
       "      <td>\"Hey Guys,  It&amp;#039;s been 4 months since my l...</td>\n",
       "      <td>10</td>\n",
       "      <td>October 24, 2017</td>\n",
       "      <td>24</td>\n",
       "      <td>0.103571</td>\n",
       "      <td>Positive</td>\n",
       "    </tr>\n",
       "    <tr>\n",
       "      <th>4</th>\n",
       "      <td>Effexor XR</td>\n",
       "      <td>Depression</td>\n",
       "      <td>\"This medicine saved my life. I was at my wits...</td>\n",
       "      <td>10</td>\n",
       "      <td>June 20, 2013</td>\n",
       "      <td>166</td>\n",
       "      <td>0.168194</td>\n",
       "      <td>Positive</td>\n",
       "    </tr>\n",
       "  </tbody>\n",
       "</table>\n",
       "</div>"
      ],
      "text/plain": [
       "         drugName         condition  \\\n",
       "0  L-methylfolate        Depression   \n",
       "1      Sertraline        Depression   \n",
       "2     Venlafaxine        Depression   \n",
       "3     Dulaglutide  Diabetes, Type 2   \n",
       "4      Effexor XR        Depression   \n",
       "\n",
       "                                              review  rating  \\\n",
       "0  \"I have taken anti-depressants for years, with...      10   \n",
       "1  \"1 week on Zoloft for anxiety and mood swings....       8   \n",
       "2  \"my gp started me on Venlafaxine yesterday to ...       4   \n",
       "3  \"Hey Guys,  It&#039;s been 4 months since my l...      10   \n",
       "4  \"This medicine saved my life. I was at my wits...      10   \n",
       "\n",
       "               date  usefulCount  sentiment sentiment_label  \n",
       "0     March 9, 2017           54   0.275000        Positive  \n",
       "1       May 7, 2011            3   0.166667        Positive  \n",
       "2    April 27, 2016            3  -0.136508        Negative  \n",
       "3  October 24, 2017           24   0.103571        Positive  \n",
       "4     June 20, 2013          166   0.168194        Positive  "
      ]
     },
     "execution_count": 2,
     "metadata": {},
     "output_type": "execute_result"
    }
   ],
   "source": [
    "df=pd.read_csv('drug_data_with_sentiment.csv')\n",
    "df.head()"
   ]
  },
  {
   "cell_type": "code",
   "execution_count": 3,
   "id": "3220a076",
   "metadata": {},
   "outputs": [
    {
     "name": "stdout",
     "output_type": "stream",
     "text": [
      "<class 'pandas.core.frame.DataFrame'>\n",
      "RangeIndex: 13944 entries, 0 to 13943\n",
      "Data columns (total 8 columns):\n",
      " #   Column           Non-Null Count  Dtype  \n",
      "---  ------           --------------  -----  \n",
      " 0   drugName         13944 non-null  object \n",
      " 1   condition        13944 non-null  object \n",
      " 2   review           13944 non-null  object \n",
      " 3   rating           13944 non-null  int64  \n",
      " 4   date             13944 non-null  object \n",
      " 5   usefulCount      13944 non-null  int64  \n",
      " 6   sentiment        13944 non-null  float64\n",
      " 7   sentiment_label  13944 non-null  object \n",
      "dtypes: float64(1), int64(2), object(5)\n",
      "memory usage: 871.6+ KB\n"
     ]
    }
   ],
   "source": [
    "df.info()"
   ]
  },
  {
   "cell_type": "code",
   "execution_count": 4,
   "id": "13154e5b",
   "metadata": {},
   "outputs": [
    {
     "data": {
      "text/plain": [
       "0"
      ]
     },
     "execution_count": 4,
     "metadata": {},
     "output_type": "execute_result"
    }
   ],
   "source": [
    "df.duplicated().sum()"
   ]
  },
  {
   "cell_type": "code",
   "execution_count": 5,
   "id": "e1e9bfd4",
   "metadata": {},
   "outputs": [
    {
     "data": {
      "text/plain": [
       "drugName           0\n",
       "condition          0\n",
       "review             0\n",
       "rating             0\n",
       "date               0\n",
       "usefulCount        0\n",
       "sentiment          0\n",
       "sentiment_label    0\n",
       "dtype: int64"
      ]
     },
     "execution_count": 5,
     "metadata": {},
     "output_type": "execute_result"
    }
   ],
   "source": [
    "df.isna().sum()"
   ]
  },
  {
   "cell_type": "code",
   "execution_count": 6,
   "id": "843d6066",
   "metadata": {},
   "outputs": [
    {
     "data": {
      "text/plain": [
       "Index(['drugName', 'condition', 'review', 'rating', 'date', 'usefulCount',\n",
       "       'sentiment', 'sentiment_label'],\n",
       "      dtype='object')"
      ]
     },
     "execution_count": 6,
     "metadata": {},
     "output_type": "execute_result"
    }
   ],
   "source": [
    "df.columns"
   ]
  },
  {
   "cell_type": "code",
   "execution_count": 7,
   "id": "ea6ca3a8",
   "metadata": {},
   "outputs": [
    {
     "data": {
      "text/html": [
       "<div>\n",
       "<style scoped>\n",
       "    .dataframe tbody tr th:only-of-type {\n",
       "        vertical-align: middle;\n",
       "    }\n",
       "\n",
       "    .dataframe tbody tr th {\n",
       "        vertical-align: top;\n",
       "    }\n",
       "\n",
       "    .dataframe thead th {\n",
       "        text-align: right;\n",
       "    }\n",
       "</style>\n",
       "<table border=\"1\" class=\"dataframe\">\n",
       "  <thead>\n",
       "    <tr style=\"text-align: right;\">\n",
       "      <th></th>\n",
       "      <th>drugName</th>\n",
       "      <th>condition</th>\n",
       "      <th>review</th>\n",
       "      <th>rating</th>\n",
       "      <th>date</th>\n",
       "      <th>usefulCount</th>\n",
       "      <th>sentiment</th>\n",
       "      <th>sentiment_label</th>\n",
       "    </tr>\n",
       "  </thead>\n",
       "  <tbody>\n",
       "    <tr>\n",
       "      <th>0</th>\n",
       "      <td>L-methylfolate</td>\n",
       "      <td>Depression</td>\n",
       "      <td>\"I have taken anti-depressants for years, with...</td>\n",
       "      <td>10</td>\n",
       "      <td>March 9, 2017</td>\n",
       "      <td>54</td>\n",
       "      <td>0.275000</td>\n",
       "      <td>Positive</td>\n",
       "    </tr>\n",
       "    <tr>\n",
       "      <th>1</th>\n",
       "      <td>Sertraline</td>\n",
       "      <td>Depression</td>\n",
       "      <td>\"1 week on Zoloft for anxiety and mood swings....</td>\n",
       "      <td>8</td>\n",
       "      <td>May 7, 2011</td>\n",
       "      <td>3</td>\n",
       "      <td>0.166667</td>\n",
       "      <td>Positive</td>\n",
       "    </tr>\n",
       "    <tr>\n",
       "      <th>2</th>\n",
       "      <td>Venlafaxine</td>\n",
       "      <td>Depression</td>\n",
       "      <td>\"my gp started me on Venlafaxine yesterday to ...</td>\n",
       "      <td>4</td>\n",
       "      <td>April 27, 2016</td>\n",
       "      <td>3</td>\n",
       "      <td>-0.136508</td>\n",
       "      <td>Negative</td>\n",
       "    </tr>\n",
       "    <tr>\n",
       "      <th>3</th>\n",
       "      <td>Dulaglutide</td>\n",
       "      <td>Diabetes, Type 2</td>\n",
       "      <td>\"Hey Guys,  It&amp;#039;s been 4 months since my l...</td>\n",
       "      <td>10</td>\n",
       "      <td>October 24, 2017</td>\n",
       "      <td>24</td>\n",
       "      <td>0.103571</td>\n",
       "      <td>Positive</td>\n",
       "    </tr>\n",
       "    <tr>\n",
       "      <th>4</th>\n",
       "      <td>Effexor XR</td>\n",
       "      <td>Depression</td>\n",
       "      <td>\"This medicine saved my life. I was at my wits...</td>\n",
       "      <td>10</td>\n",
       "      <td>June 20, 2013</td>\n",
       "      <td>166</td>\n",
       "      <td>0.168194</td>\n",
       "      <td>Positive</td>\n",
       "    </tr>\n",
       "  </tbody>\n",
       "</table>\n",
       "</div>"
      ],
      "text/plain": [
       "         drugName         condition  \\\n",
       "0  L-methylfolate        Depression   \n",
       "1      Sertraline        Depression   \n",
       "2     Venlafaxine        Depression   \n",
       "3     Dulaglutide  Diabetes, Type 2   \n",
       "4      Effexor XR        Depression   \n",
       "\n",
       "                                              review  rating  \\\n",
       "0  \"I have taken anti-depressants for years, with...      10   \n",
       "1  \"1 week on Zoloft for anxiety and mood swings....       8   \n",
       "2  \"my gp started me on Venlafaxine yesterday to ...       4   \n",
       "3  \"Hey Guys,  It&#039;s been 4 months since my l...      10   \n",
       "4  \"This medicine saved my life. I was at my wits...      10   \n",
       "\n",
       "               date  usefulCount  sentiment sentiment_label  \n",
       "0     March 9, 2017           54   0.275000        Positive  \n",
       "1       May 7, 2011            3   0.166667        Positive  \n",
       "2    April 27, 2016            3  -0.136508        Negative  \n",
       "3  October 24, 2017           24   0.103571        Positive  \n",
       "4     June 20, 2013          166   0.168194        Positive  "
      ]
     },
     "execution_count": 7,
     "metadata": {},
     "output_type": "execute_result"
    }
   ],
   "source": [
    "df.head()"
   ]
  },
  {
   "cell_type": "code",
   "execution_count": 8,
   "id": "fca19487",
   "metadata": {},
   "outputs": [
    {
     "data": {
      "text/html": [
       "<div>\n",
       "<style scoped>\n",
       "    .dataframe tbody tr th:only-of-type {\n",
       "        vertical-align: middle;\n",
       "    }\n",
       "\n",
       "    .dataframe tbody tr th {\n",
       "        vertical-align: top;\n",
       "    }\n",
       "\n",
       "    .dataframe thead th {\n",
       "        text-align: right;\n",
       "    }\n",
       "</style>\n",
       "<table border=\"1\" class=\"dataframe\">\n",
       "  <thead>\n",
       "    <tr style=\"text-align: right;\">\n",
       "      <th></th>\n",
       "      <th>condition</th>\n",
       "      <th>review</th>\n",
       "    </tr>\n",
       "  </thead>\n",
       "  <tbody>\n",
       "    <tr>\n",
       "      <th>0</th>\n",
       "      <td>Depression</td>\n",
       "      <td>\"I have taken anti-depressants for years, with...</td>\n",
       "    </tr>\n",
       "    <tr>\n",
       "      <th>1</th>\n",
       "      <td>Depression</td>\n",
       "      <td>\"1 week on Zoloft for anxiety and mood swings....</td>\n",
       "    </tr>\n",
       "    <tr>\n",
       "      <th>2</th>\n",
       "      <td>Depression</td>\n",
       "      <td>\"my gp started me on Venlafaxine yesterday to ...</td>\n",
       "    </tr>\n",
       "    <tr>\n",
       "      <th>3</th>\n",
       "      <td>Diabetes, Type 2</td>\n",
       "      <td>\"Hey Guys,  It&amp;#039;s been 4 months since my l...</td>\n",
       "    </tr>\n",
       "    <tr>\n",
       "      <th>4</th>\n",
       "      <td>Depression</td>\n",
       "      <td>\"This medicine saved my life. I was at my wits...</td>\n",
       "    </tr>\n",
       "  </tbody>\n",
       "</table>\n",
       "</div>"
      ],
      "text/plain": [
       "          condition                                             review\n",
       "0        Depression  \"I have taken anti-depressants for years, with...\n",
       "1        Depression  \"1 week on Zoloft for anxiety and mood swings....\n",
       "2        Depression  \"my gp started me on Venlafaxine yesterday to ...\n",
       "3  Diabetes, Type 2  \"Hey Guys,  It&#039;s been 4 months since my l...\n",
       "4        Depression  \"This medicine saved my life. I was at my wits..."
      ]
     },
     "execution_count": 8,
     "metadata": {},
     "output_type": "execute_result"
    }
   ],
   "source": [
    "a=['drugName', 'rating', 'date', 'usefulCount','sentiment', 'sentiment_label']\n",
    "df.drop(a,inplace=True,axis=1)\n",
    "df.head()"
   ]
  },
  {
   "cell_type": "code",
   "execution_count": 9,
   "id": "25035a5a",
   "metadata": {},
   "outputs": [],
   "source": [
    "# Pre-process data\n",
    "stop_words=set(stopwords.words('english'))\n",
    "stemmer= SnowballStemmer('english')"
   ]
  },
  {
   "cell_type": "code",
   "execution_count": 10,
   "id": "95be71fa",
   "metadata": {},
   "outputs": [
    {
     "data": {
      "text/html": [
       "<div>\n",
       "<style scoped>\n",
       "    .dataframe tbody tr th:only-of-type {\n",
       "        vertical-align: middle;\n",
       "    }\n",
       "\n",
       "    .dataframe tbody tr th {\n",
       "        vertical-align: top;\n",
       "    }\n",
       "\n",
       "    .dataframe thead th {\n",
       "        text-align: right;\n",
       "    }\n",
       "</style>\n",
       "<table border=\"1\" class=\"dataframe\">\n",
       "  <thead>\n",
       "    <tr style=\"text-align: right;\">\n",
       "      <th></th>\n",
       "      <th>condition</th>\n",
       "      <th>review</th>\n",
       "      <th>review_text</th>\n",
       "    </tr>\n",
       "  </thead>\n",
       "  <tbody>\n",
       "    <tr>\n",
       "      <th>0</th>\n",
       "      <td>Depression</td>\n",
       "      <td>\"I have taken anti-depressants for years, with...</td>\n",
       "      <td>taken anti depress year improv most moder seve...</td>\n",
       "    </tr>\n",
       "    <tr>\n",
       "      <th>1</th>\n",
       "      <td>Depression</td>\n",
       "      <td>\"1 week on Zoloft for anxiety and mood swings....</td>\n",
       "      <td>1 week zoloft anxieti mood swing take 50mg mor...</td>\n",
       "    </tr>\n",
       "    <tr>\n",
       "      <th>2</th>\n",
       "      <td>Depression</td>\n",
       "      <td>\"my gp started me on Venlafaxine yesterday to ...</td>\n",
       "      <td>gp start venlafaxin yesterday help depress cha...</td>\n",
       "    </tr>\n",
       "    <tr>\n",
       "      <th>3</th>\n",
       "      <td>Diabetes, Type 2</td>\n",
       "      <td>\"Hey Guys,  It&amp;#039;s been 4 months since my l...</td>\n",
       "      <td>hey guy 039 4 month sinc last post want give m...</td>\n",
       "    </tr>\n",
       "    <tr>\n",
       "      <th>4</th>\n",
       "      <td>Depression</td>\n",
       "      <td>\"This medicine saved my life. I was at my wits...</td>\n",
       "      <td>medicin save life wit end anti depress readi g...</td>\n",
       "    </tr>\n",
       "  </tbody>\n",
       "</table>\n",
       "</div>"
      ],
      "text/plain": [
       "          condition                                             review  \\\n",
       "0        Depression  \"I have taken anti-depressants for years, with...   \n",
       "1        Depression  \"1 week on Zoloft for anxiety and mood swings....   \n",
       "2        Depression  \"my gp started me on Venlafaxine yesterday to ...   \n",
       "3  Diabetes, Type 2  \"Hey Guys,  It&#039;s been 4 months since my l...   \n",
       "4        Depression  \"This medicine saved my life. I was at my wits...   \n",
       "\n",
       "                                         review_text  \n",
       "0  taken anti depress year improv most moder seve...  \n",
       "1  1 week zoloft anxieti mood swing take 50mg mor...  \n",
       "2  gp start venlafaxin yesterday help depress cha...  \n",
       "3  hey guy 039 4 month sinc last post want give m...  \n",
       "4  medicin save life wit end anti depress readi g...  "
      ]
     },
     "execution_count": 10,
     "metadata": {},
     "output_type": "execute_result"
    }
   ],
   "source": [
    "def preprocess_text(text):\n",
    "    #Remove Punctuation and special characters\n",
    "    text=re.sub(r\"[^a-zA-Z0-9]\", \" \",text.lower())\n",
    "    \n",
    "    # Tokenize The text\n",
    "    tokens=nltk.word_tokenize(text)\n",
    "    \n",
    "    #Remove the stopwords\n",
    "    tokens=[token for token in tokens if token not in stop_words]\n",
    "    \n",
    "    #stem the tokens\n",
    "    stemmed_tokens=[stemmer.stem(token) for token in tokens]\n",
    "    return \" \".join(stemmed_tokens)\n",
    "\n",
    "df['review_text']=df[\"review\"].apply(preprocess_text)\n",
    "df.head()"
   ]
  },
  {
   "cell_type": "markdown",
   "id": "e5343593",
   "metadata": {},
   "source": [
    "# Model Building"
   ]
  },
  {
   "cell_type": "code",
   "execution_count": 11,
   "id": "f63300ea",
   "metadata": {},
   "outputs": [
    {
     "name": "stdout",
     "output_type": "stream",
     "text": [
      "X_train: (10458, 9903)\n",
      "y_train: (10458,)\n",
      "X_test: (3486, 9903)\n",
      "X_test: (3486, 9903)\n"
     ]
    }
   ],
   "source": [
    "# Convert the text data into numerical features using TF-IDF\n",
    "vectorizer =TfidfVectorizer()\n",
    "X = vectorizer.fit_transform(df[\"review_text\"])\n",
    "\n",
    "y = df[\"condition\"]\n",
    "\n",
    "# Split the data into training and testing sets\n",
    "X_train, X_test, y_train, y_test = train_test_split(X, y, test_size=0.25, random_state=90)\n",
    "print('X_train:',X_train.shape)\n",
    "print('y_train:',y_train.shape)\n",
    "print('X_test:',X_test.shape)\n",
    "print('X_test:',X_test.shape)"
   ]
  },
  {
   "cell_type": "code",
   "execution_count": 12,
   "id": "ee7f8438",
   "metadata": {},
   "outputs": [
    {
     "data": {
      "text/plain": [
       "<3486x9903 sparse matrix of type '<class 'numpy.float64'>'\n",
       "\twith 126143 stored elements in Compressed Sparse Row format>"
      ]
     },
     "execution_count": 12,
     "metadata": {},
     "output_type": "execute_result"
    }
   ],
   "source": [
    "X_test"
   ]
  },
  {
   "cell_type": "code",
   "execution_count": 13,
   "id": "26b532f7",
   "metadata": {},
   "outputs": [
    {
     "data": {
      "text/plain": [
       "1465        Diabetes, Type 2\n",
       "12379             Depression\n",
       "321               Depression\n",
       "1163        Diabetes, Type 2\n",
       "1837              Depression\n",
       "                ...         \n",
       "9094              Depression\n",
       "8718        Diabetes, Type 2\n",
       "5878     High Blood Pressure\n",
       "1533              Depression\n",
       "10145             Depression\n",
       "Name: condition, Length: 3486, dtype: object"
      ]
     },
     "execution_count": 13,
     "metadata": {},
     "output_type": "execute_result"
    }
   ],
   "source": [
    "y_test"
   ]
  },
  {
   "cell_type": "markdown",
   "id": "b3816fec",
   "metadata": {},
   "source": [
    "## Multinomial Naive Bayes Theoram"
   ]
  },
  {
   "cell_type": "code",
   "execution_count": 14,
   "id": "193599d5",
   "metadata": {},
   "outputs": [
    {
     "name": "stdout",
     "output_type": "stream",
     "text": [
      "Training Accuracy:90.05% \n",
      "Test Accuracy:88.64% \n",
      "Precision: 89.95% \n",
      "Recall: 88.64% \n",
      "f1_score: 87.92% \n",
      "                     precision    recall  f1-score   support\n",
      "\n",
      "         Depression       0.86      1.00      0.92      2265\n",
      "   Diabetes, Type 2       0.98      0.75      0.85       644\n",
      "High Blood Pressure       0.97      0.60      0.74       577\n",
      "\n",
      "           accuracy                           0.89      3486\n",
      "          macro avg       0.94      0.78      0.84      3486\n",
      "       weighted avg       0.90      0.89      0.88      3486\n",
      "\n"
     ]
    },
    {
     "data": {
      "image/png": "[encoded data removed]",
      "text/plain": [
       "<Figure size 640x480 with 2 Axes>"
      ]
     },
     "metadata": {},
     "output_type": "display_data"
    }
   ],
   "source": [
    "# Train the naive model\n",
    "model_m=MultinomialNB()\n",
    "model_m.fit(X_train,y_train)\n",
    "\n",
    "# Evaluate Model\n",
    "y_pred_m=model_m.predict(X_test)\n",
    "y_pred_mt=model_m.predict(X_train)\n",
    "\n",
    "accuracy_n=accuracy_score(y_test,y_pred_m)*100\n",
    "\n",
    "print('Training Accuracy:{:.2f}% '.format(accuracy_score(y_train,y_pred_mt)*100))\n",
    "print('Test Accuracy:{:.2f}% '.format(accuracy_n))\n",
    "\n",
    "print('Precision: {:.2f}% '.format(precision_score(y_test,y_pred_m,average='weighted')*100))\n",
    "print('Recall: {:.2f}% '.format(recall_score(y_test,y_pred_m,average='weighted')*100))\n",
    "print('f1_score: {:.2f}% '.format(f1_score(y_test,y_pred_m,average='weighted')*100))\n",
    "\n",
    "sn.heatmap(confusion_matrix(y_test, y_pred_m),annot=True)\n",
    "print(classification_report(y_test,y_pred_m))\n",
    " "
   ]
  },
  {
   "cell_type": "markdown",
   "id": "189398c9",
   "metadata": {},
   "source": [
    "## Logistic Model"
   ]
  },
  {
   "cell_type": "code",
   "execution_count": 15,
   "id": "51dcc89f",
   "metadata": {},
   "outputs": [
    {
     "name": "stdout",
     "output_type": "stream",
     "text": [
      "Accuracy: 88.64% \n",
      "Precision: 89.95% \n",
      "Recall: 88.64% \n",
      "f1_score: 87.92% \n",
      "                     precision    recall  f1-score   support\n",
      "\n",
      "         Depression       0.86      1.00      0.92      2265\n",
      "   Diabetes, Type 2       0.98      0.75      0.85       644\n",
      "High Blood Pressure       0.97      0.60      0.74       577\n",
      "\n",
      "           accuracy                           0.89      3486\n",
      "          macro avg       0.94      0.78      0.84      3486\n",
      "       weighted avg       0.90      0.89      0.88      3486\n",
      "\n"
     ]
    },
    {
     "data": {
      "image/png": "[encoded data removed]",
      "text/plain": [
       "<Figure size 640x480 with 2 Axes>"
      ]
     },
     "metadata": {},
     "output_type": "display_data"
    }
   ],
   "source": [
    "# Train the Logistics model\n",
    "model_lr=LogisticRegression()\n",
    "model_lr.fit(X_train,y_train)\n",
    "\n",
    "# Evaluate Model\n",
    "y_pred_lr=model_m.predict(X_test)\n",
    "accuracy_lr=accuracy_score(y_test,y_pred_lr)*100\n",
    "\n",
    "print('Accuracy: {:.2f}% '.format(accuracy_lr))\n",
    "print('Precision: {:.2f}% '.format(precision_score(y_test,y_pred_lr,average='weighted')*100))\n",
    "print('Recall: {:.2f}% '.format(recall_score(y_test,y_pred_lr,average='weighted')*100))\n",
    "print('f1_score: {:.2f}% '.format(f1_score(y_test,y_pred_lr,average='weighted')*100))\n",
    "\n",
    "sn.heatmap(confusion_matrix(y_test, y_pred_lr),annot=True)\n",
    "print(classification_report(y_test,y_pred_lr))\n",
    " "
   ]
  },
  {
   "cell_type": "markdown",
   "id": "8b264ef7",
   "metadata": {},
   "source": [
    "## Support Vector Machine"
   ]
  },
  {
   "cell_type": "code",
   "execution_count": 16,
   "id": "0098a2f6",
   "metadata": {},
   "outputs": [
    {
     "name": "stdout",
     "output_type": "stream",
     "text": [
      "Test Accuracy:95.78% \n",
      "Precision: 95.84% \n",
      "Recall: 95.78% \n",
      "f1_score: 95.72% \n",
      "                     precision    recall  f1-score   support\n",
      "\n",
      "         Depression       0.95      0.99      0.97      2265\n",
      "   Diabetes, Type 2       0.98      0.92      0.95       644\n",
      "High Blood Pressure       0.96      0.86      0.91       577\n",
      "\n",
      "           accuracy                           0.96      3486\n",
      "          macro avg       0.96      0.92      0.94      3486\n",
      "       weighted avg       0.96      0.96      0.96      3486\n",
      "\n"
     ]
    },
    {
     "data": {
      "image/png": "[encoded data removed]",
      "text/plain": [
       "<Figure size 640x480 with 2 Axes>"
      ]
     },
     "metadata": {},
     "output_type": "display_data"
    }
   ],
   "source": [
    "# Train the SVC model\n",
    "model_s=SVC()\n",
    "model_s.fit(X_train,y_train)\n",
    "\n",
    "# Evaluate Model\n",
    "y_pred_s=model_s.predict(X_test)\n",
    "\n",
    "accuracy_svc=accuracy_score(y_test,y_pred_s)*100\n",
    "\n",
    "print('Test Accuracy:{:.2f}% '.format(accuracy_svc))\n",
    "print('Precision: {:.2f}% '.format(precision_score(y_test,y_pred_s,average='weighted')*100))\n",
    "print('Recall: {:.2f}% '.format(recall_score(y_test,y_pred_s,average='weighted')*100))\n",
    "print('f1_score: {:.2f}% '.format(f1_score(y_test,y_pred_s,average='weighted')*100))\n",
    "\n",
    "sn.heatmap(confusion_matrix(y_test, y_pred_s),annot=True)\n",
    "print(classification_report(y_test,y_pred_s))\n",
    " "
   ]
  },
  {
   "cell_type": "markdown",
   "id": "7a3fa3f3",
   "metadata": {},
   "source": [
    "## Decision Tree"
   ]
  },
  {
   "cell_type": "code",
   "execution_count": null,
   "id": "df523407",
   "metadata": {},
   "outputs": [],
   "source": [
    "# Train the decision tree model\n",
    "model_dt=DecisionTreeClassifier(criterion=\"entropy\",random_state=45,max_depth=5)\n",
    "model_dt.fit(X_train,y_train)\n",
    "\n",
    "# Evaluate Model\n",
    "y_pred_dt=model_dt.predict(X_test)\n",
    "accuracy_dt=accuracy_score(y_test,y_pred_dt)*100\n",
    "\n",
    "print('Accuracy: {:.2f}% '.format(accuracy_dt))\n",
    "print('Precision: {:.2f}% '.format(precision_score(y_test,y_pred_dt,average='weighted')*100))\n",
    "print('Recall: {:.2f}% '.format(recall_score(y_test,y_pred_dt,average='weighted')*100))\n",
    "print('f1_score: {:.2f}% '.format(f1_score(y_test,y_pred_dt,average='weighted')*100))\n",
    "\n",
    "sn.heatmap(confusion_matrix(y_test, y_pred_dt),annot=True)\n",
    "print(classification_report(y_test,y_pred_dt))\n",
    " "
   ]
  },
  {
   "cell_type": "markdown",
   "id": "deac2ee9",
   "metadata": {},
   "source": [
    "## Random Forest with Ensemble Technique"
   ]
  },
  {
   "cell_type": "code",
   "execution_count": 18,
   "id": "f70a1fd1",
   "metadata": {},
   "outputs": [
    {
     "name": "stdout",
     "output_type": "stream",
     "text": [
      "Accuracy: 95.61% \n",
      "Precision: 95.73% \n",
      "Recall: 95.61% \n",
      "f1_score: 95.53% \n",
      "                     precision    recall  f1-score   support\n",
      "\n",
      "         Depression       0.94      0.99      0.97      2265\n",
      "   Diabetes, Type 2       0.98      0.92      0.95       644\n",
      "High Blood Pressure       0.98      0.85      0.91       577\n",
      "\n",
      "           accuracy                           0.96      3486\n",
      "          macro avg       0.97      0.92      0.94      3486\n",
      "       weighted avg       0.96      0.96      0.96      3486\n",
      "\n"
     ]
    },
    {
     "data": {
      "image/png": "[encoded data removed]",
      "text/plain": [
       "<Figure size 640x480 with 2 Axes>"
      ]
     },
     "metadata": {},
     "output_type": "display_data"
    }
   ],
   "source": [
    "# Train the Ensemble (Random Forest) model\n",
    "model_en=RandomForestClassifier()\n",
    "model_en.fit(X_train,y_train)\n",
    "\n",
    "# Evaluate Model\n",
    "y_pred_en=model_en.predict(X_test)\n",
    "accuracy_en=accuracy_score(y_test,y_pred_en)*100\n",
    "\n",
    "print('Accuracy: {:.2f}% '.format(accuracy_en))\n",
    "print('Precision: {:.2f}% '.format(precision_score(y_test,y_pred_en,average='weighted')*100))\n",
    "print('Recall: {:.2f}% '.format(recall_score(y_test,y_pred_en,average='weighted')*100))\n",
    "print('f1_score: {:.2f}% '.format(f1_score(y_test,y_pred_en,average='weighted')*100))\n",
    "\n",
    "sn.heatmap(confusion_matrix(y_test, y_pred_en),annot=True)\n",
    "print(classification_report(y_test,y_pred_en))\n",
    " "
   ]
  },
  {
   "cell_type": "markdown",
   "id": "6796c8b2",
   "metadata": {},
   "source": [
    "## Gradient Boosting model"
   ]
  },
  {
   "cell_type": "code",
   "execution_count": 19,
   "id": "a9e78114",
   "metadata": {},
   "outputs": [
    {
     "name": "stdout",
     "output_type": "stream",
     "text": [
      "Accuracy: 92.74% \n",
      "Precision: 93.13% \n",
      "Recall: 92.74% \n",
      "f1_score: 92.52% \n",
      "                     precision    recall  f1-score   support\n",
      "\n",
      "         Depression       0.91      1.00      0.95      2265\n",
      "   Diabetes, Type 2       0.98      0.83      0.90       644\n",
      "High Blood Pressure       0.96      0.77      0.86       577\n",
      "\n",
      "           accuracy                           0.93      3486\n",
      "          macro avg       0.95      0.87      0.90      3486\n",
      "       weighted avg       0.93      0.93      0.93      3486\n",
      "\n"
     ]
    },
    {
     "data": {
      "image/png": "[encoded data removed]",
      "text/plain": [
       "<Figure size 640x480 with 2 Axes>"
      ]
     },
     "metadata": {},
     "output_type": "display_data"
    }
   ],
   "source": [
    "# Train the Gradient Boosting model\n",
    "model_gb=GradientBoostingClassifier()\n",
    "model_gb.fit(X_train,y_train)\n",
    "\n",
    "# Evaluate Model\n",
    "y_pred_gb=model_gb.predict(X_test)\n",
    "accuracy_gb=accuracy_score(y_test,y_pred_gb)*100\n",
    "\n",
    "print('Accuracy: {:.2f}% '.format(accuracy_gb))\n",
    "print('Precision: {:.2f}% '.format(precision_score(y_test,y_pred_gb,average='weighted')*100))\n",
    "print('Recall: {:.2f}% '.format(recall_score(y_test,y_pred_gb,average='weighted')*100))\n",
    "print('f1_score: {:.2f}% '.format(f1_score(y_test,y_pred_gb,average='weighted')*100))\n",
    "\n",
    "sn.heatmap(confusion_matrix(y_test, y_pred_gb),annot=True)\n",
    "print(classification_report(y_test,y_pred_gb))\n",
    " "
   ]
  },
  {
   "cell_type": "markdown",
   "id": "8ab815f0",
   "metadata": {},
   "source": [
    "## Light Gradient Boosting classifier model"
   ]
  },
  {
   "cell_type": "code",
   "execution_count": 20,
   "id": "03f46160",
   "metadata": {},
   "outputs": [
    {
     "name": "stdout",
     "output_type": "stream",
     "text": [
      "Accuracy:95.81% \n",
      "Precision:95.79% \n",
      "Recall:95.81% \n",
      "f1_score:95.78% \n",
      "                     precision    recall  f1-score   support\n",
      "\n",
      "         Depression       0.96      0.98      0.97      2265\n",
      "   Diabetes, Type 2       0.96      0.92      0.94       644\n",
      "High Blood Pressure       0.93      0.90      0.91       577\n",
      "\n",
      "           accuracy                           0.96      3486\n",
      "          macro avg       0.95      0.93      0.94      3486\n",
      "       weighted avg       0.96      0.96      0.96      3486\n",
      "\n"
     ]
    },
    {
     "data": {
      "image/png": "[encoded data removed]",
      "text/plain": [
       "<Figure size 640x480 with 2 Axes>"
      ]
     },
     "metadata": {},
     "output_type": "display_data"
    }
   ],
   "source": [
    "clf = LGBMClassifier(\n",
    "        n_estimators=10000,\n",
    "        learning_rate=0.10,\n",
    "        num_leaves=30,\n",
    "        subsample=.9,\n",
    "        max_depth=7,\n",
    "        reg_alpha=.1,\n",
    "        reg_lambda=.1,\n",
    "        min_split_gain=.01,\n",
    "        min_child_weight=2,\n",
    "        silent=-1,\n",
    "        verbose=-1,\n",
    "        )\n",
    "model = clf.fit(X_train, y_train)\n",
    "\n",
    "# Evaluate Model\n",
    "y_pred_clf=model.predict(X_test)\n",
    "accuracy_clf=accuracy_score(y_test,y_pred_clf)*100\n",
    "\n",
    "print('Accuracy:{:.2f}% '.format(accuracy_clf))\n",
    "print('Precision:{:.2f}% '.format(precision_score(y_test,y_pred_clf,average='weighted')*100))\n",
    "print('Recall:{:.2f}% '.format(recall_score(y_test,y_pred_clf,average='weighted')*100))\n",
    "print('f1_score:{:.2f}% '.format(f1_score(y_test,y_pred_clf,average='weighted')*100))\n",
    "\n",
    "sn.heatmap(confusion_matrix(y_test, y_pred_clf),annot=True)\n",
    "print(classification_report(y_test,y_pred_clf))\n",
    " "
   ]
  },
  {
   "cell_type": "code",
   "execution_count": 21,
   "id": "f7d239b9",
   "metadata": {},
   "outputs": [
    {
     "name": "stdout",
     "output_type": "stream",
     "text": [
      "           Model Name  Accuracy Score\n",
      "0       MultinomialNB       88.640275\n",
      "1    GradientBoosting       92.742398\n",
      "2        DecisionTree       85.111876\n",
      "3                 SVC       95.783133\n",
      "4  LogisticRegression       88.640275\n",
      "5        RandomForest       95.611015\n",
      "6      LGBMClassifier       95.811819\n"
     ]
    }
   ],
   "source": [
    "compare={\"Model Name\":['MultinomialNB','GradientBoosting','DecisionTree','SVC','LogisticRegression','RandomForest','LGBMClassifier'],\n",
    "        \"Accuracy Score\":[accuracy_n,accuracy_gb,accuracy_dt,accuracy_svc,accuracy_lr,accuracy_en,accuracy_clf]}\n",
    "barp=pd.DataFrame(compare)\n",
    "print(barp)\n"
   ]
  },
  {
   "cell_type": "code",
   "execution_count": 22,
   "id": "f16cd03b",
   "metadata": {},
   "outputs": [
    {
     "data": {
      "image/png": "[encoded data removed]",
      "text/plain": [
       "<Figure size 640x480 with 1 Axes>"
      ]
     },
     "metadata": {},
     "output_type": "display_data"
    }
   ],
   "source": [
    "import matplotlib.pyplot as plt\n",
    "barp.sort_values(by='Accuracy Score',inplace=True)\n",
    "sn.barplot(x=\"Model Name\",y=\"Accuracy Score\",data=barp)\n",
    "plt.xticks(rotation=60)\n",
    "plt.show()"
   ]
  },
  {
   "cell_type": "markdown",
   "id": "2ab858a6",
   "metadata": {},
   "source": [
    "## So from the above graph we can see that SVC,LGBM show highest Accuracy than other.\n",
    "- Hence I am make model using SVC for predict condition based on drug review and Suggest some highly rated Drugs"
   ]
  },
  {
   "cell_type": "code",
   "execution_count": null,
   "id": "47e5308f",
   "metadata": {},
   "outputs": [],
   "source": []
  },
  {
   "cell_type": "code",
   "execution_count": null,
   "id": "f1cd3969",
   "metadata": {},
   "outputs": [],
   "source": []
  },
  {
   "cell_type": "markdown",
   "id": "c9fb6bbb",
   "metadata": {},
   "source": [
    "# Convert the text data into numerical features using TF-IDF\n",
    "#vectorizer = TfidfVectorizer()\n",
    "#X = vectorizer.fit_transform(df[\"review_text\"])\n",
    "#y = df[\"condition\"]\n",
    "\n",
    "X_train, X_test, y_train, y_test = train_test_split(X, y, test_size=0.2, random_state=51)\n",
    "\n",
    "for i in [MultinomialNB,GradientBoostingClassifier,DecisionTreeClassifier,SVC,LogisticRegression,RandomForestClassifier,LGBMClassifier]:\n",
    "    # Train the Gradient Boosting model\n",
    "    model= i()\n",
    "    model.fit(X_train,y_train)\n",
    "\n",
    "    # Evaluate Model\n",
    "    y_pred=model.predict(X_test)\n",
    "    y_pred_t=model.predict(X_train)\n",
    "    print('Model Name: ',i)\n",
    "    print('Train Accuracy: {:.2f}% '.format(accuracy_score(y_train,y_pred_t)*100))\n",
    "    print('Test Accuracy: {:.2f}% '.format(accuracy_score(y_test,y_pred)*100))\n",
    "    print('Precision: {:.2f}% '.format(precision_score(y_test,y_pred,average='weighted')*100))\n",
    "    print('Recall: {:.2f}% '.format(recall_score(y_test,y_pred,average='weighted')*100))\n",
    "    print('f1_score: {:.2f}% '.format(f1_score(y_test,y_pred,average='weighted')*100))\n",
    "    print(classification_report(y_test,y_pred))\n",
    "    print('=============================================================================================')\n",
    "   \n"
   ]
  },
  {
   "cell_type": "code",
   "execution_count": null,
   "id": "2ac70f1f",
   "metadata": {},
   "outputs": [],
   "source": []
  }
 ],
 "metadata": {
  "kernelspec": {
   "display_name": "Python 3 (ipykernel)",
   "language": "python",
   "name": "python3"
  },
  "language_info": {
   "codemirror_mode": {
    "name": "ipython",
    "version": 3
   },
   "file_extension": ".py",
   "mimetype": "text/x-python",
   "name": "python",
   "nbconvert_exporter": "python",
   "pygments_lexer": "ipython3",
   "version": "3.9.13"
  }
 },
 "nbformat": 4,
 "nbformat_minor": 5
}
